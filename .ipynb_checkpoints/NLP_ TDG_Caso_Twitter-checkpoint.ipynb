{
 "cells": [
  {
   "cell_type": "code",
   "execution_count": 1,
   "id": "b0a704c1-0a24-4a22-b85c-b87e5b9a686a",
   "metadata": {},
   "outputs": [],
   "source": [
    "#Importamos las librerias necesarias para la ejecución del proyecto\n",
    "import numpy as np\n",
    "import pandas as pd\n",
    "import seaborn as sn\n",
    "import matplotlib.pyplot as plt\n",
    "from sklearn.feature_extraction.text import CountVectorizer, TfidfVectorizer\n",
    "from sklearn.linear_model import LogisticRegression\n",
    "from sklearn.metrics import roc_auc_score, f1_score, confusion_matrix\n",
    "from sklearn.model_selection import train_test_split"
   ]
  },
  {
   "cell_type": "code",
   "execution_count": 2,
   "id": "388b5425-cadf-40ec-8a3a-5a3eff64f120",
   "metadata": {},
   "outputs": [],
   "source": [
    "#Importamos la base de datos con la cual se va a trabajar\n",
    "df = pd.read_csv('Twitter_Data.csv')"
   ]
  },
  {
   "cell_type": "code",
   "execution_count": 3,
   "id": "2cb9888b-bccd-4761-ad56-df6a8955249e",
   "metadata": {
    "scrolled": true
   },
   "outputs": [
    {
     "data": {
      "text/html": [
       "<div>\n",
       "<style scoped>\n",
       "    .dataframe tbody tr th:only-of-type {\n",
       "        vertical-align: middle;\n",
       "    }\n",
       "\n",
       "    .dataframe tbody tr th {\n",
       "        vertical-align: top;\n",
       "    }\n",
       "\n",
       "    .dataframe thead th {\n",
       "        text-align: right;\n",
       "    }\n",
       "</style>\n",
       "<table border=\"1\" class=\"dataframe\">\n",
       "  <thead>\n",
       "    <tr style=\"text-align: right;\">\n",
       "      <th></th>\n",
       "      <th>clean_text</th>\n",
       "      <th>category</th>\n",
       "    </tr>\n",
       "  </thead>\n",
       "  <tbody>\n",
       "    <tr>\n",
       "      <th>0</th>\n",
       "      <td>when modi promised “minimum government maximum...</td>\n",
       "      <td>Negativo</td>\n",
       "    </tr>\n",
       "    <tr>\n",
       "      <th>1</th>\n",
       "      <td>talk all the nonsense and continue all the dra...</td>\n",
       "      <td>Neutro</td>\n",
       "    </tr>\n",
       "    <tr>\n",
       "      <th>2</th>\n",
       "      <td>what did just say vote for modi  welcome bjp t...</td>\n",
       "      <td>Positivo</td>\n",
       "    </tr>\n",
       "    <tr>\n",
       "      <th>3</th>\n",
       "      <td>asking his supporters prefix chowkidar their n...</td>\n",
       "      <td>Positivo</td>\n",
       "    </tr>\n",
       "    <tr>\n",
       "      <th>4</th>\n",
       "      <td>answer who among these the most powerful world...</td>\n",
       "      <td>Positivo</td>\n",
       "    </tr>\n",
       "    <tr>\n",
       "      <th>...</th>\n",
       "      <td>...</td>\n",
       "      <td>...</td>\n",
       "    </tr>\n",
       "    <tr>\n",
       "      <th>162963</th>\n",
       "      <td>why these 456 crores paid neerav modi not reco...</td>\n",
       "      <td>Negativo</td>\n",
       "    </tr>\n",
       "    <tr>\n",
       "      <th>162964</th>\n",
       "      <td>dear rss terrorist payal gawar what about modi...</td>\n",
       "      <td>Negativo</td>\n",
       "    </tr>\n",
       "    <tr>\n",
       "      <th>162965</th>\n",
       "      <td>did you cover her interaction forum where she ...</td>\n",
       "      <td>Neutro</td>\n",
       "    </tr>\n",
       "    <tr>\n",
       "      <th>162966</th>\n",
       "      <td>there big project came into india modi dream p...</td>\n",
       "      <td>Neutro</td>\n",
       "    </tr>\n",
       "    <tr>\n",
       "      <th>162967</th>\n",
       "      <td>have you ever listen about like gurukul where ...</td>\n",
       "      <td>Positivo</td>\n",
       "    </tr>\n",
       "  </tbody>\n",
       "</table>\n",
       "<p>162968 rows × 2 columns</p>\n",
       "</div>"
      ],
      "text/plain": [
       "                                               clean_text  category\n",
       "0       when modi promised “minimum government maximum...  Negativo\n",
       "1       talk all the nonsense and continue all the dra...    Neutro\n",
       "2       what did just say vote for modi  welcome bjp t...  Positivo\n",
       "3       asking his supporters prefix chowkidar their n...  Positivo\n",
       "4       answer who among these the most powerful world...  Positivo\n",
       "...                                                   ...       ...\n",
       "162963  why these 456 crores paid neerav modi not reco...  Negativo\n",
       "162964  dear rss terrorist payal gawar what about modi...  Negativo\n",
       "162965  did you cover her interaction forum where she ...    Neutro\n",
       "162966  there big project came into india modi dream p...    Neutro\n",
       "162967  have you ever listen about like gurukul where ...  Positivo\n",
       "\n",
       "[162968 rows x 2 columns]"
      ]
     },
     "execution_count": 3,
     "metadata": {},
     "output_type": "execute_result"
    }
   ],
   "source": [
    "#Ejecutamos para ver la cantidad de lineas(datos) de la BD\n",
    "df"
   ]
  },
  {
   "cell_type": "code",
   "execution_count": 4,
   "id": "59dc1a6c-a64c-45ff-ae38-d02c9eec6572",
   "metadata": {
    "scrolled": true
   },
   "outputs": [
    {
     "data": {
      "text/plain": [
       "<Axes: >"
      ]
     },
     "execution_count": 4,
     "metadata": {},
     "output_type": "execute_result"
    },
    {
     "data": {
      "image/png": "[encoded data removed]",
      "text/plain": [
       "<Figure size 640x480 with 1 Axes>"
      ]
     },
     "metadata": {},
     "output_type": "display_data"
    }
   ],
   "source": [
    "#Graficamos el histograma de las categorias\n",
    "df['category'].hist()"
   ]
  },
  {
   "cell_type": "code",
   "execution_count": 5,
   "id": "2adedf35-cf21-4ffd-ae27-a7c36475f767",
   "metadata": {},
   "outputs": [],
   "source": [
    "#Mapeamos y creamos la columna target para clasificar las categorias de los sentimientos\n",
    "target_map = {'Positivo': 1, 'Negativo': 0, 'Neutro': 2}\n",
    "df['target'] = df['category'].map(target_map)"
   ]
  },
  {
   "cell_type": "code",
   "execution_count": 6,
   "id": "2fd5c918-ee73-4e57-865b-743c1bf7d7dc",
   "metadata": {},
   "outputs": [
    {
     "data": {
      "text/html": [
       "<div>\n",
       "<style scoped>\n",
       "    .dataframe tbody tr th:only-of-type {\n",
       "        vertical-align: middle;\n",
       "    }\n",
       "\n",
       "    .dataframe tbody tr th {\n",
       "        vertical-align: top;\n",
       "    }\n",
       "\n",
       "    .dataframe thead th {\n",
       "        text-align: right;\n",
       "    }\n",
       "</style>\n",
       "<table border=\"1\" class=\"dataframe\">\n",
       "  <thead>\n",
       "    <tr style=\"text-align: right;\">\n",
       "      <th></th>\n",
       "      <th>clean_text</th>\n",
       "      <th>category</th>\n",
       "      <th>target</th>\n",
       "    </tr>\n",
       "  </thead>\n",
       "  <tbody>\n",
       "    <tr>\n",
       "      <th>0</th>\n",
       "      <td>when modi promised “minimum government maximum...</td>\n",
       "      <td>Negativo</td>\n",
       "      <td>0</td>\n",
       "    </tr>\n",
       "    <tr>\n",
       "      <th>1</th>\n",
       "      <td>talk all the nonsense and continue all the dra...</td>\n",
       "      <td>Neutro</td>\n",
       "      <td>2</td>\n",
       "    </tr>\n",
       "    <tr>\n",
       "      <th>2</th>\n",
       "      <td>what did just say vote for modi  welcome bjp t...</td>\n",
       "      <td>Positivo</td>\n",
       "      <td>1</td>\n",
       "    </tr>\n",
       "    <tr>\n",
       "      <th>3</th>\n",
       "      <td>asking his supporters prefix chowkidar their n...</td>\n",
       "      <td>Positivo</td>\n",
       "      <td>1</td>\n",
       "    </tr>\n",
       "    <tr>\n",
       "      <th>4</th>\n",
       "      <td>answer who among these the most powerful world...</td>\n",
       "      <td>Positivo</td>\n",
       "      <td>1</td>\n",
       "    </tr>\n",
       "    <tr>\n",
       "      <th>...</th>\n",
       "      <td>...</td>\n",
       "      <td>...</td>\n",
       "      <td>...</td>\n",
       "    </tr>\n",
       "    <tr>\n",
       "      <th>162963</th>\n",
       "      <td>why these 456 crores paid neerav modi not reco...</td>\n",
       "      <td>Negativo</td>\n",
       "      <td>0</td>\n",
       "    </tr>\n",
       "    <tr>\n",
       "      <th>162964</th>\n",
       "      <td>dear rss terrorist payal gawar what about modi...</td>\n",
       "      <td>Negativo</td>\n",
       "      <td>0</td>\n",
       "    </tr>\n",
       "    <tr>\n",
       "      <th>162965</th>\n",
       "      <td>did you cover her interaction forum where she ...</td>\n",
       "      <td>Neutro</td>\n",
       "      <td>2</td>\n",
       "    </tr>\n",
       "    <tr>\n",
       "      <th>162966</th>\n",
       "      <td>there big project came into india modi dream p...</td>\n",
       "      <td>Neutro</td>\n",
       "      <td>2</td>\n",
       "    </tr>\n",
       "    <tr>\n",
       "      <th>162967</th>\n",
       "      <td>have you ever listen about like gurukul where ...</td>\n",
       "      <td>Positivo</td>\n",
       "      <td>1</td>\n",
       "    </tr>\n",
       "  </tbody>\n",
       "</table>\n",
       "<p>162968 rows × 3 columns</p>\n",
       "</div>"
      ],
      "text/plain": [
       "                                               clean_text  category  target\n",
       "0       when modi promised “minimum government maximum...  Negativo       0\n",
       "1       talk all the nonsense and continue all the dra...    Neutro       2\n",
       "2       what did just say vote for modi  welcome bjp t...  Positivo       1\n",
       "3       asking his supporters prefix chowkidar their n...  Positivo       1\n",
       "4       answer who among these the most powerful world...  Positivo       1\n",
       "...                                                   ...       ...     ...\n",
       "162963  why these 456 crores paid neerav modi not reco...  Negativo       0\n",
       "162964  dear rss terrorist payal gawar what about modi...  Negativo       0\n",
       "162965  did you cover her interaction forum where she ...    Neutro       2\n",
       "162966  there big project came into india modi dream p...    Neutro       2\n",
       "162967  have you ever listen about like gurukul where ...  Positivo       1\n",
       "\n",
       "[162968 rows x 3 columns]"
      ]
     },
     "execution_count": 6,
     "metadata": {},
     "output_type": "execute_result"
    }
   ],
   "source": [
    "df"
   ]
  },
  {
   "cell_type": "code",
   "execution_count": 6,
   "id": "ddf4ee85-e876-4088-8b9e-fa3b060584a0",
   "metadata": {},
   "outputs": [],
   "source": [
    "#Dividimos la base BD en 2 subconjuntos, el primero será un subconjunto de entrenamiento y el segundo uno de prueba\n",
    "df_train, df_test = train_test_split(df)"
   ]
  },
  {
   "cell_type": "code",
   "execution_count": 7,
   "id": "0f53a27d-476c-4316-b8b5-b68b6a7c196b",
   "metadata": {},
   "outputs": [
    {
     "data": {
      "text/html": [
       "<div>\n",
       "<style scoped>\n",
       "    .dataframe tbody tr th:only-of-type {\n",
       "        vertical-align: middle;\n",
       "    }\n",
       "\n",
       "    .dataframe tbody tr th {\n",
       "        vertical-align: top;\n",
       "    }\n",
       "\n",
       "    .dataframe thead th {\n",
       "        text-align: right;\n",
       "    }\n",
       "</style>\n",
       "<table border=\"1\" class=\"dataframe\">\n",
       "  <thead>\n",
       "    <tr style=\"text-align: right;\">\n",
       "      <th></th>\n",
       "      <th>clean_text</th>\n",
       "      <th>category</th>\n",
       "      <th>target</th>\n",
       "    </tr>\n",
       "  </thead>\n",
       "  <tbody>\n",
       "    <tr>\n",
       "      <th>106376</th>\n",
       "      <td>election stunts modico weaken all opposition p...</td>\n",
       "      <td>Positivo</td>\n",
       "      <td>1</td>\n",
       "    </tr>\n",
       "    <tr>\n",
       "      <th>148693</th>\n",
       "      <td>talk about old days and our old people thanks ...</td>\n",
       "      <td>Negativo</td>\n",
       "      <td>0</td>\n",
       "    </tr>\n",
       "    <tr>\n",
       "      <th>105769</th>\n",
       "      <td>please give promise will give credit nehru ind...</td>\n",
       "      <td>Negativo</td>\n",
       "      <td>0</td>\n",
       "    </tr>\n",
       "    <tr>\n",
       "      <th>149732</th>\n",
       "      <td>seriously when they speak this they think all ...</td>\n",
       "      <td>Negativo</td>\n",
       "      <td>0</td>\n",
       "    </tr>\n",
       "    <tr>\n",
       "      <th>159591</th>\n",
       "      <td>modi will clean bold congress</td>\n",
       "      <td>Positivo</td>\n",
       "      <td>1</td>\n",
       "    </tr>\n",
       "  </tbody>\n",
       "</table>\n",
       "</div>"
      ],
      "text/plain": [
       "                                               clean_text  category  target\n",
       "106376  election stunts modico weaken all opposition p...  Positivo       1\n",
       "148693  talk about old days and our old people thanks ...  Negativo       0\n",
       "105769  please give promise will give credit nehru ind...  Negativo       0\n",
       "149732  seriously when they speak this they think all ...  Negativo       0\n",
       "159591                     modi will clean bold congress   Positivo       1"
      ]
     },
     "execution_count": 7,
     "metadata": {},
     "output_type": "execute_result"
    }
   ],
   "source": [
    "#Ejecutamos para ver las primeras lineas del conjunto de entrenamiento\n",
    "df_train.head()"
   ]
  },
  {
   "cell_type": "code",
   "execution_count": 8,
   "id": "8f4ebde3-14aa-497f-88d4-9ba41e6a6b43",
   "metadata": {},
   "outputs": [
    {
     "data": {
      "text/html": [
       "<div>\n",
       "<style scoped>\n",
       "    .dataframe tbody tr th:only-of-type {\n",
       "        vertical-align: middle;\n",
       "    }\n",
       "\n",
       "    .dataframe tbody tr th {\n",
       "        vertical-align: top;\n",
       "    }\n",
       "\n",
       "    .dataframe thead th {\n",
       "        text-align: right;\n",
       "    }\n",
       "</style>\n",
       "<table border=\"1\" class=\"dataframe\">\n",
       "  <thead>\n",
       "    <tr style=\"text-align: right;\">\n",
       "      <th></th>\n",
       "      <th>clean_text</th>\n",
       "      <th>category</th>\n",
       "      <th>target</th>\n",
       "    </tr>\n",
       "  </thead>\n",
       "  <tbody>\n",
       "    <tr>\n",
       "      <th>106376</th>\n",
       "      <td>election stunts modico weaken all opposition p...</td>\n",
       "      <td>Positivo</td>\n",
       "      <td>1</td>\n",
       "    </tr>\n",
       "    <tr>\n",
       "      <th>148693</th>\n",
       "      <td>talk about old days and our old people thanks ...</td>\n",
       "      <td>Negativo</td>\n",
       "      <td>0</td>\n",
       "    </tr>\n",
       "    <tr>\n",
       "      <th>105769</th>\n",
       "      <td>please give promise will give credit nehru ind...</td>\n",
       "      <td>Negativo</td>\n",
       "      <td>0</td>\n",
       "    </tr>\n",
       "    <tr>\n",
       "      <th>149732</th>\n",
       "      <td>seriously when they speak this they think all ...</td>\n",
       "      <td>Negativo</td>\n",
       "      <td>0</td>\n",
       "    </tr>\n",
       "    <tr>\n",
       "      <th>159591</th>\n",
       "      <td>modi will clean bold congress</td>\n",
       "      <td>Positivo</td>\n",
       "      <td>1</td>\n",
       "    </tr>\n",
       "    <tr>\n",
       "      <th>...</th>\n",
       "      <td>...</td>\n",
       "      <td>...</td>\n",
       "      <td>...</td>\n",
       "    </tr>\n",
       "    <tr>\n",
       "      <th>130035</th>\n",
       "      <td>now murdabad just modi modi and work has been ...</td>\n",
       "      <td>Neutro</td>\n",
       "      <td>2</td>\n",
       "    </tr>\n",
       "    <tr>\n",
       "      <th>80915</th>\n",
       "      <td>modi india ullimitted power</td>\n",
       "      <td>Neutro</td>\n",
       "      <td>2</td>\n",
       "    </tr>\n",
       "    <tr>\n",
       "      <th>150522</th>\n",
       "      <td>can any sanghi assure that engg graduates atle...</td>\n",
       "      <td>Neutro</td>\n",
       "      <td>2</td>\n",
       "    </tr>\n",
       "    <tr>\n",
       "      <th>109215</th>\n",
       "      <td>bhai saabmodi jee definitely will not this for...</td>\n",
       "      <td>Neutro</td>\n",
       "      <td>2</td>\n",
       "    </tr>\n",
       "    <tr>\n",
       "      <th>31344</th>\n",
       "      <td>comparison religious freedom made india still ...</td>\n",
       "      <td>Positivo</td>\n",
       "      <td>1</td>\n",
       "    </tr>\n",
       "  </tbody>\n",
       "</table>\n",
       "<p>122226 rows × 3 columns</p>\n",
       "</div>"
      ],
      "text/plain": [
       "                                               clean_text  category  target\n",
       "106376  election stunts modico weaken all opposition p...  Positivo       1\n",
       "148693  talk about old days and our old people thanks ...  Negativo       0\n",
       "105769  please give promise will give credit nehru ind...  Negativo       0\n",
       "149732  seriously when they speak this they think all ...  Negativo       0\n",
       "159591                     modi will clean bold congress   Positivo       1\n",
       "...                                                   ...       ...     ...\n",
       "130035  now murdabad just modi modi and work has been ...    Neutro       2\n",
       "80915                        modi india ullimitted power     Neutro       2\n",
       "150522  can any sanghi assure that engg graduates atle...    Neutro       2\n",
       "109215  bhai saabmodi jee definitely will not this for...    Neutro       2\n",
       "31344   comparison religious freedom made india still ...  Positivo       1\n",
       "\n",
       "[122226 rows x 3 columns]"
      ]
     },
     "execution_count": 8,
     "metadata": {},
     "output_type": "execute_result"
    }
   ],
   "source": [
    "#Ejecutamos para ver la cantidad de lineas del conjunto de entrenamiento\n",
    "df_train"
   ]
  },
  {
   "cell_type": "code",
   "execution_count": 10,
   "id": "112ad6ed-cd26-4d77-81fc-29d8275da6f5",
   "metadata": {},
   "outputs": [
    {
     "data": {
      "text/plain": [
       "<122226x2000 sparse matrix of type '<class 'numpy.float64'>'\n",
       "\twith 1767166 stored elements in Compressed Sparse Row format>"
      ]
     },
     "execution_count": 10,
     "metadata": {},
     "output_type": "execute_result"
    }
   ],
   "source": [
    "#Vectorizamos dando el maximo de dimensiones y aplicando al conjunto de entrenamiento\n",
    "vectorizer = TfidfVectorizer(max_features=2000)\n",
    "X_train = vectorizer.fit_transform(df_train['clean_text'])\n",
    "X_train"
   ]
  },
  {
   "cell_type": "code",
   "execution_count": 11,
   "id": "95421bdd-d036-4043-8141-01b7cd685be6",
   "metadata": {},
   "outputs": [
    {
     "data": {
      "text/plain": [
       "<40742x2000 sparse matrix of type '<class 'numpy.float64'>'\n",
       "\twith 585492 stored elements in Compressed Sparse Row format>"
      ]
     },
     "execution_count": 11,
     "metadata": {},
     "output_type": "execute_result"
    }
   ],
   "source": [
    "#Vectorizamos el conjunto de prueba\n",
    "X_test = vectorizer.transform(df_test['clean_text'])\n",
    "X_test"
   ]
  },
  {
   "cell_type": "code",
   "execution_count": 12,
   "id": "f46fc8ed-a06c-4bb2-b8ad-06516fe6544d",
   "metadata": {},
   "outputs": [],
   "source": [
    "#Guardamos las \"etiquetas\" asignadas a los comentarios en subconjuntos\n",
    "Y_train = df_train['target']\n",
    "Y_test = df_test['target']"
   ]
  },
  {
   "cell_type": "code",
   "execution_count": 13,
   "id": "91c188ae-f07c-4b69-acdc-8214a710347e",
   "metadata": {},
   "outputs": [
    {
     "name": "stdout",
     "output_type": "stream",
     "text": [
      "Train acc: 0.8966668302979726\n",
      "Test acc: 0.891635167640273\n"
     ]
    }
   ],
   "source": [
    "#Creamos el modelo el cual ejecuta la REGRESIÓN LOGISTICA para verificar la precisión del modelo\n",
    "model = LogisticRegression(max_iter=1000)\n",
    "model.fit(X_train, Y_train)\n",
    "print(\"Train acc:\", model.score(X_train, Y_train))\n",
    "print(\"Test acc:\", model.score(X_test, Y_test))"
   ]
  },
  {
   "cell_type": "code",
   "execution_count": 14,
   "id": "d6d5cc81-7fb6-40e7-9573-a34be664a608",
   "metadata": {},
   "outputs": [],
   "source": [
    "#Ejecutamos ambos conjuntos tanto el conjunto de entrenamiento como el de prueba\n",
    "P_train = model.predict(X_train)\n",
    "P_test = model.predict(X_test)"
   ]
  },
  {
   "cell_type": "code",
   "execution_count": 15,
   "id": "3c417697-fb23-4498-b214-13626e314c0f",
   "metadata": {},
   "outputs": [
    {
     "data": {
      "text/plain": [
       "array([[0.76136791, 0.1214581 , 0.11717399],\n",
       "       [0.03623416, 0.90140767, 0.06235817],\n",
       "       [0.00854804, 0.01405356, 0.9773984 ]])"
      ]
     },
     "execution_count": 15,
     "metadata": {},
     "output_type": "execute_result"
    }
   ],
   "source": [
    "#Calculamos la MATRIZ DE CONFUSIÓN\n",
    "cm = confusion_matrix(Y_train, P_train, normalize='true')\n",
    "cm"
   ]
  },
  {
   "cell_type": "code",
   "execution_count": 16,
   "id": "27f5160a-13cb-4946-9be8-a6b35d3d3a62",
   "metadata": {},
   "outputs": [],
   "source": [
    "#Graficamos la MATRIZ DE CONFUSIÓN para el conjunto de entrenamiento\n",
    "def plot_cm(cm):\n",
    "    classes = ['negativo', 'positivo', 'neutro']\n",
    "    df_cm = pd.DataFrame(cm, index=classes, columns=classes)\n",
    "    ax = sn.heatmap(df_cm, annot=True, fmt='g')\n",
    "    ax.set_xlabel(\"Predicted\")\n",
    "    ax.set_ylabel(\"Target\")"
   ]
  },
  {
   "cell_type": "code",
   "execution_count": 17,
   "id": "d31c85e1-6852-4f0f-b06a-7d69fc5b1514",
   "metadata": {},
   "outputs": [
    {
     "data": {
      "image/png": "[encoded data removed]",
      "text/plain": [
       "<Figure size 640x480 with 2 Axes>"
      ]
     },
     "metadata": {},
     "output_type": "display_data"
    }
   ],
   "source": [
    "#Graficamos la MATRIZ DE CONFUSIÓN para el conjunto de entrenamiento\n",
    "cm_test = confusion_matrix(Y_test, P_test, normalize='true')\n",
    "plot_cm(cm_test)"
   ]
  },
  {
   "cell_type": "code",
   "execution_count": 17,
   "id": "c7871597-0ae7-40aa-b266-eb80adcfbd04",
   "metadata": {},
   "outputs": [
    {
     "data": {
      "image/png": "[encoded data removed]",
      "text/plain": [
       "<Figure size 640x480 with 2 Axes>"
      ]
     },
     "metadata": {},
     "output_type": "display_data"
    }
   ],
   "source": [
    "#Graficamos la MATRIZ DE CONFUSIÓN para el conjunto de prueba\n",
    "cm = confusion_matrix(Y_test, P_test, normalize='true')\n",
    "plot_cm(cm)"
   ]
  },
  {
   "cell_type": "code",
   "execution_count": null,
   "id": "347183fc-dd89-4547-8028-b7772e385e35",
   "metadata": {},
   "outputs": [],
   "source": []
  }
 ],
 "metadata": {
  "kernelspec": {
   "display_name": "Python 3 (ipykernel)",
   "language": "python",
   "name": "python3"
  },
  "language_info": {
   "codemirror_mode": {
    "name": "ipython",
    "version": 3
   },
   "file_extension": ".py",
   "mimetype": "text/x-python",
   "name": "python",
   "nbconvert_exporter": "python",
   "pygments_lexer": "ipython3",
   "version": "3.11.7"
  }
 },
 "nbformat": 4,
 "nbformat_minor": 5
}
